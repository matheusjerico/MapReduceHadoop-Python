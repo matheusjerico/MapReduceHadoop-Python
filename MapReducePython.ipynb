{
 "cells": [
  {
   "cell_type": "markdown",
   "metadata": {},
   "source": [
    "# Notebook to apply MapReduce and move data to HDFS "
   ]
  },
  {
   "cell_type": "markdown",
   "metadata": {},
   "source": [
    "- In Pseudo-Distributed Mode;\n",
    "- We go to work with dataset in <a href=\"https://grouplens.org/datasets/movielens/\"> MovieLens </a> for this tutorial.\n",
    "- I downloaded this dataset and put in repository, enjoy!\n",
    "    - ml-100k.zip;\n",
    "    - log_server.log.zip;\n",
    "    - OrgulhoePreconceito.txt\n",
    "    - amigos_facebook.csv\n",
    "- Make download this dataset and move to HDFS."
   ]
  },
  {
   "cell_type": "markdown",
   "metadata": {},
   "source": [
    "## TASK 1: count how many movies by rating"
   ]
  },
  {
   "cell_type": "markdown",
   "metadata": {},
   "source": [
    "### 1. Initializing HDFS and verify this"
   ]
  },
  {
   "cell_type": "code",
   "execution_count": null,
   "metadata": {
    "scrolled": true
   },
   "outputs": [],
   "source": [
    "print(\"Initializing HDFS...\")\n",
    "!start-dfs.sh\n",
    "print(\"Verifing if HDFS started:\")\n",
    "!jps"
   ]
  },
  {
   "cell_type": "markdown",
   "metadata": {},
   "source": [
    "### 2. Initializing YARN and verify this"
   ]
  },
  {
   "cell_type": "code",
   "execution_count": null,
   "metadata": {
    "scrolled": true
   },
   "outputs": [],
   "source": [
    "print(\"Initializing Yarn to gerenciate Jobs and Resources...\")\n",
    "!start-yarn.sh"
   ]
  },
  {
   "cell_type": "markdown",
   "metadata": {},
   "source": [
    "### 3. Looking to HDFS"
   ]
  },
  {
   "cell_type": "code",
   "execution_count": null,
   "metadata": {
    "scrolled": true
   },
   "outputs": [],
   "source": [
    "!hdfs dfs -ls /"
   ]
  },
  {
   "cell_type": "markdown",
   "metadata": {},
   "source": [
    "### 4. Create directory to work with MapReduce"
   ]
  },
  {
   "cell_type": "code",
   "execution_count": null,
   "metadata": {
    "scrolled": true
   },
   "outputs": [],
   "source": [
    "!hdfs dfs -mkdir /mapred"
   ]
  },
  {
   "cell_type": "markdown",
   "metadata": {},
   "source": [
    "- Check if directory is created"
   ]
  },
  {
   "cell_type": "code",
   "execution_count": null,
   "metadata": {
    "scrolled": true
   },
   "outputs": [],
   "source": [
    "!hdfs dfs -ls /"
   ]
  },
  {
   "cell_type": "markdown",
   "metadata": {},
   "source": [
    "### 5. Unzip file \"ml-100k.zip\" e import file \"u.data\"\n",
    "- First column is ID;\n",
    "- Second column is ID_MOVIE;\n",
    "- Third column is Rating;\n",
    "- Fourth column is Timestamp."
   ]
  },
  {
   "cell_type": "code",
   "execution_count": null,
   "metadata": {
    "scrolled": false
   },
   "outputs": [],
   "source": [
    "!unzip ml-100k.zip\n",
    "!cd ml-100k; cat u.data; mv u.data udata"
   ]
  },
  {
   "cell_type": "markdown",
   "metadata": {},
   "source": [
    "### 6. Put this file in hdfs"
   ]
  },
  {
   "cell_type": "code",
   "execution_count": null,
   "metadata": {
    "scrolled": true
   },
   "outputs": [],
   "source": [
    "!cd ml-100k & hdfs dfs -put udata /mapred\n",
    "!hdfs dfs -ls /mapred"
   ]
  },
  {
   "cell_type": "markdown",
   "metadata": {},
   "source": [
    "### 7. Applying MapReduce to count how many movies by rating"
   ]
  },
  {
   "cell_type": "markdown",
   "metadata": {},
   "source": [
    "- generate file with code in python and execute in cluster hadoop"
   ]
  },
  {
   "cell_type": "code",
   "execution_count": null,
   "metadata": {
    "scrolled": true
   },
   "outputs": [],
   "source": [
    "# If you don't have mrjob package, install with command below\n",
    "# !pip install mrjob\n",
    "# configuration file mrjob: '/home/hadoop/.mrjob.conf' if need"
   ]
  },
  {
   "cell_type": "code",
   "execution_count": null,
   "metadata": {
    "scrolled": true
   },
   "outputs": [],
   "source": [
    "%%writefile /filePy/MovieEvaluateMR.py\n",
    "from mrjob.job import MRJob\n",
    "\n",
    "class MovieEvaluateMR(MRJob):\n",
    "    def mapper(self, key, line):\n",
    "        (ID, ID_MOVIE, rating, Timestamp) = line.split('\\t')\n",
    "        yield rating, 1\n",
    "    \n",
    "    def reducer(self, rating, occurences):\n",
    "        yield rating, sum(occurences)\n",
    "        \n",
    "if __name__ == '__main__':\n",
    "    MovieEvaluateMR.run()"
   ]
  },
  {
   "cell_type": "markdown",
   "metadata": {},
   "source": [
    "- move file to dir /filePy"
   ]
  },
  {
   "cell_type": "code",
   "execution_count": 9,
   "metadata": {},
   "outputs": [],
   "source": [
    "!mv MovieEvaluateMR.py ./filePy/"
   ]
  },
  {
   "cell_type": "markdown",
   "metadata": {},
   "source": [
    "- Execute job MapReduce"
   ]
  },
  {
   "cell_type": "code",
   "execution_count": null,
   "metadata": {
    "scrolled": false
   },
   "outputs": [],
   "source": [
    "!python /filePy/MovieEvaluateMR.py hdfs:///mapred/udata -r hadoop "
   ]
  },
  {
   "cell_type": "markdown",
   "metadata": {},
   "source": [
    "## TASK 2: avg friend by age"
   ]
  },
  {
   "cell_type": "markdown",
   "metadata": {},
   "source": [
    "### 1. put this file in hdfs and check"
   ]
  },
  {
   "cell_type": "code",
   "execution_count": null,
   "metadata": {
    "scrolled": true
   },
   "outputs": [],
   "source": [
    "!hdfs dfs -put amigos_facebook.csv /mapred\n",
    "!hdfs dfs -ls /mapred\n",
    "!jps"
   ]
  },
  {
   "cell_type": "markdown",
   "metadata": {},
   "source": [
    "### 2. apply mapreduce to count avg friends by age"
   ]
  },
  {
   "cell_type": "code",
   "execution_count": 5,
   "metadata": {
    "scrolled": true
   },
   "outputs": [
    {
     "name": "stdout",
     "output_type": "stream",
     "text": [
      "Overwriting FriendsAgeMR.py\n"
     ]
    }
   ],
   "source": [
    "%%writefile FriendsAgeMR.py\n",
    "from mrjob.job import MRJob\n",
    "\n",
    "class FriendsAgeMR(MRJob):\n",
    "    def mapper(self, key, line):\n",
    "        (ID, name, age, nFriends) = line.split(',')\n",
    "        yield age, float(nFriends)\n",
    "    \n",
    "    def reducer(self, age, nFriends):\n",
    "        count = 0\n",
    "        total = 0\n",
    "        for x in nFriends:\n",
    "            count += 1\n",
    "            total += x\n",
    "        \n",
    "        yield age, (total / count)\n",
    "        \n",
    "if __name__ == '__main__':\n",
    "    FriendsAgeMR.run()"
   ]
  },
  {
   "cell_type": "markdown",
   "metadata": {},
   "source": [
    "- move file to dir /filePy"
   ]
  },
  {
   "cell_type": "code",
   "execution_count": 8,
   "metadata": {},
   "outputs": [
    {
     "name": "stdout",
     "output_type": "stream",
     "text": [
      "mv: cannot create regular file '/filePy/': Not a directory\r\n"
     ]
    }
   ],
   "source": [
    "!mv FriendsAgeMR.py ./filePy/"
   ]
  },
  {
   "cell_type": "markdown",
   "metadata": {},
   "source": [
    "- execute job mapreduce"
   ]
  },
  {
   "cell_type": "code",
   "execution_count": null,
   "metadata": {
    "scrolled": true
   },
   "outputs": [],
   "source": [
    "!python /filePy/FriendsAgeMR.py hdfs:///mapred/amigos_facebook.csv -r hadoop"
   ]
  }
 ],
 "metadata": {
  "kernelspec": {
   "display_name": "Python 3",
   "language": "python",
   "name": "python3"
  },
  "language_info": {
   "codemirror_mode": {
    "name": "ipython",
    "version": 3
   },
   "file_extension": ".py",
   "mimetype": "text/x-python",
   "name": "python",
   "nbconvert_exporter": "python",
   "pygments_lexer": "ipython3",
   "version": "3.7.4"
  }
 },
 "nbformat": 4,
 "nbformat_minor": 2
}
