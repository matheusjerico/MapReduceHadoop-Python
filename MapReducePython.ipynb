{
 "cells": [
  {
   "cell_type": "markdown",
   "metadata": {},
   "source": [
    "# Notebook to apply MapReduce and move data to HDFS "
   ]
  },
  {
   "cell_type": "markdown",
   "metadata": {},
   "source": [
    "- In Pseudo-Distributed Mode;\n",
    "- We go to work with dataset in <a href=\"https://grouplens.org/datasets/movielens/\"> MovieLens </a> for this tutorial.\n",
    "- I downloaded this dataset and put in repository, enjoy!\n",
    "    - ml-100k.zip;\n",
    "    - log_server.log.zip;\n",
    "    - OrgulhoePreconceito.txt\n",
    "    - amigos_facebook.csv\n",
    "- Make download this dataset and move to HDFS."
   ]
  },
  {
   "cell_type": "markdown",
   "metadata": {},
   "source": [
    "## TASK 1: count how many movies by rating"
   ]
  },
  {
   "cell_type": "markdown",
   "metadata": {},
   "source": [
    "### 1. Initializing HDFS and verify this"
   ]
  },
  {
   "cell_type": "code",
   "execution_count": null,
   "metadata": {
    "scrolled": true
   },
   "outputs": [],
   "source": [
    "print(\"Initializing HDFS...\")\n",
    "!start-dfs.sh\n",
    "print(\"Verifing if HDFS started:\")\n",
    "!jps"
   ]
  },
  {
   "cell_type": "markdown",
   "metadata": {},
   "source": [
    "### 2. Initializing YARN and verify this"
   ]
  },
  {
   "cell_type": "code",
   "execution_count": null,
   "metadata": {
    "scrolled": true
   },
   "outputs": [],
   "source": [
    "print(\"Initializing Yarn to gerenciate Jobs and Resources...\")\n",
    "!start-yarn.sh"
   ]
  },
  {
   "cell_type": "markdown",
   "metadata": {},
   "source": [
    "### 3. Looking to HDFS"
   ]
  },
  {
   "cell_type": "code",
   "execution_count": null,
   "metadata": {
    "scrolled": true
   },
   "outputs": [],
   "source": [
    "!hdfs dfs -ls /"
   ]
  },
  {
   "cell_type": "markdown",
   "metadata": {},
   "source": [
    "### 4. Create directory to work with MapReduce"
   ]
  },
  {
   "cell_type": "code",
   "execution_count": null,
   "metadata": {
    "scrolled": true
   },
   "outputs": [],
   "source": [
    "!hdfs dfs -mkdir /mapred"
   ]
  },
  {
   "cell_type": "markdown",
   "metadata": {},
   "source": [
    "- Check if directory is created"
   ]
  },
  {
   "cell_type": "code",
   "execution_count": null,
   "metadata": {
    "scrolled": true
   },
   "outputs": [],
   "source": [
    "!hdfs dfs -ls /"
   ]
  },
  {
   "cell_type": "markdown",
   "metadata": {},
   "source": [
    "### 5. Unzip file \"ml-100k.zip\" e import file \"u.data\"\n",
    "- First column is ID;\n",
    "- Second column is ID_MOVIE;\n",
    "- Third column is Rating;\n",
    "- Fourth column is Timestamp."
   ]
  },
  {
   "cell_type": "code",
   "execution_count": null,
   "metadata": {
    "scrolled": false
   },
   "outputs": [],
   "source": [
    "!unzip ml-100k.zip"
   ]
  },
  {
   "cell_type": "markdown",
   "metadata": {},
   "source": [
    "### 6. Put this file in hdfs"
   ]
  },
  {
   "cell_type": "code",
   "execution_count": null,
   "metadata": {
    "scrolled": true
   },
   "outputs": [],
   "source": [
    "!cd ml-100k & hdfs dfs -put u.data /mapred\n",
    "!hdfs dfs -ls /mapred"
   ]
  },
  {
   "cell_type": "markdown",
   "metadata": {},
   "source": [
    "### 7. Applying MapReduce to count how many movies by rating"
   ]
  },
  {
   "cell_type": "markdown",
   "metadata": {},
   "source": [
    "- generate file with code in python and execute in cluster hadoop"
   ]
  },
  {
   "cell_type": "code",
   "execution_count": null,
   "metadata": {
    "scrolled": true
   },
   "outputs": [],
   "source": [
    "# If you don't have mrjob package, install with command below\n",
    "# !pip install mrjob\n",
    "# configuration file mrjob: '/home/hadoop/.mrjob.conf' if need"
   ]
  },
  {
   "cell_type": "code",
   "execution_count": null,
   "metadata": {
    "scrolled": true
   },
   "outputs": [],
   "source": [
    "%%writefile MovieEvaluateMR.py\n",
    "from mrjob.job import MRJob\n",
    "\n",
    "class MovieEvaluateMR(MRJob):\n",
    "    def mapper(self, key, line):\n",
    "        (ID, ID_MOVIE, rating, Timestamp) = line.split('\\t')\n",
    "        yield rating, 1\n",
    "    \n",
    "    def reducer(self, rating, occurences):\n",
    "        yield rating, sum(occurences)\n",
    "        \n",
    "if __name__ == '__main__':\n",
    "    MovieEvaluateMR.run()"
   ]
  },
  {
   "cell_type": "markdown",
   "metadata": {},
   "source": [
    "- move file to dir /movie_evaluate"
   ]
  },
  {
   "cell_type": "code",
   "execution_count": null,
   "metadata": {},
   "outputs": [],
   "source": [
    "!mv MovieEvaluateMR.py ./movie_evaluate/"
   ]
  },
  {
   "cell_type": "markdown",
   "metadata": {},
   "source": [
    "- Execute job MapReduce"
   ]
  },
  {
   "cell_type": "code",
   "execution_count": null,
   "metadata": {
    "scrolled": false
   },
   "outputs": [],
   "source": [
    "!python /filePy/MovieEvaluateMR.py hdfs:///mapred/u.data -r hadoop > /movie_evaluate/result.txt"
   ]
  },
  {
   "cell_type": "markdown",
   "metadata": {},
   "source": [
    "## TASK 2: avg friend by age"
   ]
  },
  {
   "cell_type": "markdown",
   "metadata": {},
   "source": [
    "### 1. put this file in hdfs and check"
   ]
  },
  {
   "cell_type": "code",
   "execution_count": null,
   "metadata": {
    "scrolled": true
   },
   "outputs": [],
   "source": [
    "!hdfs dfs -put amigos_facebook.csv /mapred\n",
    "!hdfs dfs -ls /mapred\n",
    "!jps"
   ]
  },
  {
   "cell_type": "markdown",
   "metadata": {},
   "source": [
    "### 2. apply mapreduce to count avg friends by age"
   ]
  },
  {
   "cell_type": "code",
   "execution_count": null,
   "metadata": {
    "scrolled": true
   },
   "outputs": [],
   "source": [
    "%%writefile FriendsAgeMR.py\n",
    "from mrjob.job import MRJob\n",
    "\n",
    "class FriendsAgeMR(MRJob):\n",
    "    def mapper(self, _, line):\n",
    "        (ID, name, age, nFriends) = line.split(',')\n",
    "        yield age, float(nFriends)\n",
    "    \n",
    "    def reducer(self, age, nFriends):\n",
    "        count = 0\n",
    "        total = 0\n",
    "        for x in nFriends:\n",
    "            count += 1\n",
    "            total += x\n",
    "        \n",
    "        yield age, (total / count)\n",
    "        \n",
    "if __name__ == '__main__':\n",
    "    FriendsAgeMR.run()"
   ]
  },
  {
   "cell_type": "markdown",
   "metadata": {},
   "source": [
    "- move file to dir /friends_by_age"
   ]
  },
  {
   "cell_type": "code",
   "execution_count": null,
   "metadata": {},
   "outputs": [],
   "source": [
    "!mv FriendsAgeMR.py ./friends_by_age/"
   ]
  },
  {
   "cell_type": "markdown",
   "metadata": {},
   "source": [
    "- execute job mapreduce"
   ]
  },
  {
   "cell_type": "code",
   "execution_count": null,
   "metadata": {
    "scrolled": true
   },
   "outputs": [],
   "source": [
    "!python ./friends_by_age/FriendsAgeMR.py hdfs:///mapred/amigos_facebook.csv -r hadoop > ./friends_by_age/result.txt"
   ]
  },
  {
   "cell_type": "markdown",
   "metadata": {},
   "source": [
    "## TASK 3: count words (without pre process)"
   ]
  },
  {
   "cell_type": "markdown",
   "metadata": {},
   "source": [
    "### 1. put this file in hdfs and check"
   ]
  },
  {
   "cell_type": "code",
   "execution_count": null,
   "metadata": {},
   "outputs": [],
   "source": [
    "!hdfs dfs -put OrgulhoePreconceito.txt /mapred\n",
    "!hdfs dfs -ls /mapred\n",
    "!jps"
   ]
  },
  {
   "cell_type": "markdown",
   "metadata": {},
   "source": [
    "## 2. apply mapreduce to count words"
   ]
  },
  {
   "cell_type": "code",
   "execution_count": null,
   "metadata": {},
   "outputs": [],
   "source": [
    "%%writefile WordCount.py\n",
    "from mrjob.job import MRJob\n",
    "\n",
    "class WordCountMR(MRJob):\n",
    "    \n",
    "    def mapper(self, _, line):\n",
    "        words = line.split()\n",
    "        for word in words:\n",
    "            yield word.lower(), 1\n",
    "    \n",
    "    def reducer(self, word, occurences):\n",
    "        yield word, sum(occurences)\n",
    "        \n",
    "if __name__ == '__main__':\n",
    "    WordCountMR.run()"
   ]
  },
  {
   "cell_type": "markdown",
   "metadata": {},
   "source": [
    "- move file to word_count"
   ]
  },
  {
   "cell_type": "code",
   "execution_count": null,
   "metadata": {},
   "outputs": [],
   "source": [
    "!mkdir -p word_count\n",
    "!mv WordCount.py ./word_count/"
   ]
  },
  {
   "cell_type": "markdown",
   "metadata": {},
   "source": [
    "- execute job mapreduce"
   ]
  },
  {
   "cell_type": "code",
   "execution_count": null,
   "metadata": {
    "scrolled": true
   },
   "outputs": [],
   "source": [
    "!python ./word_count/WordCount.py hdfs:///mapred/OrgulhoePreconceito.txt -r hadoop > ./word_count/result.txt"
   ]
  },
  {
   "cell_type": "markdown",
   "metadata": {},
   "source": [
    "- result"
   ]
  },
  {
   "cell_type": "code",
   "execution_count": null,
   "metadata": {},
   "outputs": [],
   "source": [
    "!cat ./word_count/result.txt"
   ]
  },
  {
   "cell_type": "markdown",
   "metadata": {},
   "source": [
    "## TASK 4: count words (with pre process)"
   ]
  },
  {
   "cell_type": "code",
   "execution_count": null,
   "metadata": {},
   "outputs": [],
   "source": [
    "%%writefile WordCountWithRegex.py\n",
    "from mrjob.job import MRJob\n",
    "import re\n",
    "\n",
    "word_regex = re.compile(r\"[\\w']+\")\n",
    "\n",
    "class WordCountWithRegexMR(MRJob):\n",
    "    \n",
    "    def mapper(self, _, line):\n",
    "        words = word_regex.findall(line)\n",
    "        for word in words:\n",
    "            yield word.lower(), 1\n",
    "    \n",
    "    def reducer(self, word, occurences):\n",
    "        yield word, sum(occurences)\n",
    "        \n",
    "if __name__ == '__main__':\n",
    "    WordCountWithRegexMR.run()"
   ]
  },
  {
   "cell_type": "markdown",
   "metadata": {},
   "source": [
    "- move file to dir /word_count\n"
   ]
  },
  {
   "cell_type": "code",
   "execution_count": null,
   "metadata": {},
   "outputs": [],
   "source": [
    "!mkdir -p word_count\n",
    "!mv WordCountWithRegex.py ./word_count/"
   ]
  },
  {
   "cell_type": "markdown",
   "metadata": {},
   "source": [
    "- execute job mapreduce"
   ]
  },
  {
   "cell_type": "code",
   "execution_count": null,
   "metadata": {},
   "outputs": [],
   "source": [
    "!python ./word_count/WordCountWithRegex.py hdfs:///mapred/OrgulhoePreconceito.txt -r hadoop > ./word_count/result_with_regex.txt"
   ]
  },
  {
   "cell_type": "markdown",
   "metadata": {},
   "source": [
    "- result"
   ]
  },
  {
   "cell_type": "code",
   "execution_count": null,
   "metadata": {},
   "outputs": [],
   "source": [
    "!cat ./word_count/result_with_regex.txt"
   ]
  },
  {
   "cell_type": "markdown",
   "metadata": {},
   "source": [
    "## TASK 5: count words (with pre process and sort)"
   ]
  },
  {
   "cell_type": "code",
   "execution_count": null,
   "metadata": {},
   "outputs": [],
   "source": [
    "%%writefile WordCountWithRegexOrderMR.py\n",
    "from mrjob.job import MRJob, MRStep\n",
    "import re\n",
    "\n",
    "# two map and reduce\n",
    "\n",
    "word_regex = re.compile(r\"[\\w']+\")\n",
    "\n",
    "class WordCountWithRegexOrderMR(MRJob):\n",
    "    \n",
    "    def steps(self):\n",
    "        return [\n",
    "            MRStep(mapper = self.mapper_get_words, reducer = self.reducer_count_words),\n",
    "            MRStep(mapper = self.mapper_make_counts_key, reducer = self.reducer_output_words)\n",
    "        ]\n",
    "    \n",
    "    def mapper_get_words(self, _, line):\n",
    "        words = word_regex.findall(line)\n",
    "        for word in words:\n",
    "            yield word.lower(), 1\n",
    "    \n",
    "    def reducer_count_words(self, word, occurences):\n",
    "        yield word, sum(occurences)\n",
    "        \n",
    "    def mapper_make_counts_key(self, word, count):\n",
    "        yield '%04d'%int(count), word\n",
    "\n",
    "    def reducer_output_words(self, count, words):\n",
    "        for word in words:\n",
    "            yield count, word\n",
    "   \n",
    "        \n",
    "if __name__ == '__main__':\n",
    "    WordCountWithRegexOrderMR.run()"
   ]
  },
  {
   "cell_type": "markdown",
   "metadata": {},
   "source": [
    "- move file to dir /word_count\n"
   ]
  },
  {
   "cell_type": "code",
   "execution_count": null,
   "metadata": {},
   "outputs": [],
   "source": [
    "!mkdir -p word_count\n",
    "!mv WordCountWithRegexOrderMR.py ./word_count/"
   ]
  },
  {
   "cell_type": "markdown",
   "metadata": {},
   "source": [
    "- execute job mapreduce"
   ]
  },
  {
   "cell_type": "code",
   "execution_count": null,
   "metadata": {},
   "outputs": [],
   "source": [
    "!python ./word_count/WordCountWithRegexOrderMR.py hdfs:///mapred/OrgulhoePreconceito.txt -r hadoop > ./word_count/result_with_regex_order.txt"
   ]
  },
  {
   "cell_type": "markdown",
   "metadata": {},
   "source": [
    "- result"
   ]
  },
  {
   "cell_type": "code",
   "execution_count": null,
   "metadata": {},
   "outputs": [],
   "source": [
    "!cat ./word_count/result_with_regex_order.txt"
   ]
  },
  {
   "cell_type": "markdown",
   "metadata": {},
   "source": [
    "# the end"
   ]
  }
 ],
 "metadata": {
  "kernelspec": {
   "display_name": "Python 3",
   "language": "python",
   "name": "python3"
  },
  "language_info": {
   "codemirror_mode": {
    "name": "ipython",
    "version": 3
   },
   "file_extension": ".py",
   "mimetype": "text/x-python",
   "name": "python",
   "nbconvert_exporter": "python",
   "pygments_lexer": "ipython3",
   "version": "3.7.4"
  }
 },
 "nbformat": 4,
 "nbformat_minor": 2
}
